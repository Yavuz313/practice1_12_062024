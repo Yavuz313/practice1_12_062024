{
 "cells": [
  {
   "cell_type": "markdown",
   "metadata": {},
   "source": [
    "1. Taban kenar uzunluğu 5 cm, Yükseklik uzunluğu 10 cm olan üçegenin alanını hesaplayınız."
   ]
  },
  {
   "cell_type": "code",
   "execution_count": 3,
   "metadata": {},
   "outputs": [
    {
     "name": "stdout",
     "output_type": "stream",
     "text": [
      "25.0\n"
     ]
    }
   ],
   "source": [
    "kenar1 = 5\n",
    "kenar2 = 10 \n",
    "alan = (kenar1 * kenar2) / 2\n",
    "\n",
    "print(alan)"
   ]
  },
  {
   "cell_type": "markdown",
   "metadata": {},
   "source": [
    "2. Yarıçapı 7 cm olan dairenin çevresini hesaplayınız. (π = 3)"
   ]
  },
  {
   "cell_type": "code",
   "execution_count": 4,
   "metadata": {},
   "outputs": [
    {
     "name": "stdout",
     "output_type": "stream",
     "text": [
      "Dairenin cevresi:  42\n"
     ]
    }
   ],
   "source": [
    "radius = 7\n",
    "pi = 3\n",
    "circumference = 2 * pi * radius #cevre formulu\n",
    "\n",
    "print(\"Dairenin cevresi: \", circumference)"
   ]
  },
  {
   "cell_type": "markdown",
   "metadata": {},
   "source": [
    "3. Bir dikdörtgenin uzn kenarı 8 cm, kısa kenarı 5 cm'dir. Dikdörgenin alanı kaç cm²'dir?"
   ]
  },
  {
   "cell_type": "code",
   "execution_count": null,
   "metadata": {},
   "outputs": [],
   "source": [
    "lenght = 8\n",
    "width = 5\n",
    "area = lenght * width\n",
    "\n",
    "print(\"Dikdortgenin alani:\", area)"
   ]
  },
  {
   "cell_type": "markdown",
   "metadata": {},
   "source": [
    "4. 1'den 10 a kadar olan sayıların karesini ekrana yazdırın."
   ]
  },
  {
   "cell_type": "code",
   "execution_count": 5,
   "metadata": {},
   "outputs": [
    {
     "name": "stdout",
     "output_type": "stream",
     "text": [
      "1'in karesi: 1\n",
      "2'in karesi: 4\n",
      "3'in karesi: 9\n",
      "4'in karesi: 16\n",
      "5'in karesi: 25\n",
      "6'in karesi: 36\n",
      "7'in karesi: 49\n",
      "8'in karesi: 64\n",
      "9'in karesi: 81\n",
      "10'in karesi: 100\n"
     ]
    }
   ],
   "source": [
    "a = 1\n",
    "print(\"1'in karesi:\", a ** 2)\n",
    "print(\"2'in karesi:\", (a+1) ** 2)\n",
    "print(\"3'in karesi:\", (a+2) ** 2)\n",
    "print(\"4'in karesi:\", (a+3) ** 2)\n",
    "print(\"5'in karesi:\", (a+4) ** 2)\n",
    "print(\"6'in karesi:\", (a+5) ** 2)\n",
    "print(\"7'in karesi:\", (a+6) ** 2)\n",
    "print(\"8'in karesi:\", (a+7) ** 2)\n",
    "print(\"9'in karesi:\", (a+8) ** 2)\n",
    "print(\"10'in karesi:\", (a+9) ** 2)"
   ]
  },
  {
   "cell_type": "markdown",
   "metadata": {},
   "source": [
    "5. a=10, b=20 dir. a ile b değerlerinin yerini değiştirip sonuç olarak a=20 ve b=10 elde etmek için gerekli algoritmayı oluşturup python kodlarını yazınız. Not: Yeniden değer atamadan yapınız."
   ]
  },
  {
   "cell_type": "code",
   "execution_count": 2,
   "metadata": {},
   "outputs": [
    {
     "name": "stdout",
     "output_type": "stream",
     "text": [
      "20\n",
      "10\n"
     ]
    }
   ],
   "source": [
    "a = 10\n",
    "b = 20 \n",
    "degisim = 0\n",
    "\n",
    "degisim = a\n",
    "a = b\n",
    "b = degisim\n",
    "\n",
    "print(a)\n",
    "print(b)"
   ]
  },
  {
   "cell_type": "code",
   "execution_count": 1,
   "metadata": {},
   "outputs": [
    {
     "name": "stdout",
     "output_type": "stream",
     "text": [
      "20\n",
      "10\n"
     ]
    }
   ],
   "source": [
    "a = 10\n",
    "b = 20 \n",
    "\n",
    "a,b=b,a\n",
    "print(a)\n",
    "print(b)"
   ]
  },
  {
   "cell_type": "markdown",
   "metadata": {},
   "source": [
    "6. Yaş Hesaplama:\n",
    "\n",
    "Kullanıcıdan doğum yılını alarak yaşını hesaplayın ve farklı veri tipleri ile işlem yapın."
   ]
  },
  {
   "cell_type": "code",
   "execution_count": null,
   "metadata": {},
   "outputs": [],
   "source": [
    "birth_year = input(\"Dogum yilinizi giriniz: \") #input degeri string dir o yuzden int e ceviriyoz\n",
    "birth_year = int(birth_year)\n",
    "\n",
    "current_year = 2024\n",
    "age = current_year - birth_year\n",
    "\n",
    "print(\"Yasiniz: \", age)"
   ]
  },
  {
   "cell_type": "markdown",
   "metadata": {},
   "source": [
    "7. Vücut Kitle İndeksi (BMI) Hesaplama:\n",
    "\n",
    "Kullanıcıdan kilo ve boy bilgilerini alarak BMI hesaplayın ve sonucu yuvarlayarak ekrana yazdırın."
   ]
  },
  {
   "cell_type": "code",
   "execution_count": 9,
   "metadata": {},
   "outputs": [
    {
     "name": "stdout",
     "output_type": "stream",
     "text": [
      "Vucut kitle endeksiniz: 24.577867151840145\n"
     ]
    }
   ],
   "source": [
    "# bmi = kg / boy(m) ** 2 \n",
    "weight = float(input(\"Kilonuzu giriniz(kg): \"))\n",
    "height = float(input(\"Boyunuzu giriniz(m): \"))\n",
    "\n",
    "bmi = weight / (height ** 2)\n",
    "\n",
    "print(\"Vucut kitle endeksiniz:\", bmi)"
   ]
  },
  {
   "cell_type": "markdown",
   "metadata": {},
   "source": [
    "8. Alışveriş Faturası Hesaplama:\n",
    "\n",
    "Kullanıcıdan ürün fiyatlarını ve adetlerini alarak toplam tutarı hesaplayın."
   ]
  },
  {
   "cell_type": "code",
   "execution_count": 12,
   "metadata": {},
   "outputs": [
    {
     "name": "stdout",
     "output_type": "stream",
     "text": [
      "Toplam tutar:  20.0\n"
     ]
    }
   ],
   "source": [
    "price = float(input(\"urunun fiyatini giriniz: \"))\n",
    "quantity = int(input(\"urunun adetini giriniz\"))\n",
    "\n",
    "total = price * quantity\n",
    "\n",
    "print(\"Toplam tutar: \", total)\n"
   ]
  },
  {
   "cell_type": "markdown",
   "metadata": {},
   "source": [
    "9. Döviz Çevirici:\n",
    "\n",
    "Kullanıcıdan bir miktar para alarak güncel döviz kuru ile farklı bir para birimine çevirin."
   ]
  },
  {
   "cell_type": "code",
   "execution_count": 13,
   "metadata": {},
   "outputs": [
    {
     "name": "stdout",
     "output_type": "stream",
     "text": [
      "Cevrilen miktar: 8400.0\n"
     ]
    }
   ],
   "source": [
    "amount = float(input(\"cevirilicek miktari giriniz: \"))\n",
    "conversion_rate = 0.84 # 1 usd = 0.84 euro\n",
    "converted_amount = amount * conversion_rate\n",
    "\n",
    "print(\"Cevrilen miktar:\", round(converted_amount, 2))"
   ]
  },
  {
   "cell_type": "markdown",
   "metadata": {},
   "source": [
    "10. İndirim Hesaplama:\n",
    "\n",
    "Kullanıcıdan ürünün fiyatını ve indirim yüzdesini alarak indirimli fiyatı hesaplayın."
   ]
  },
  {
   "cell_type": "code",
   "execution_count": 17,
   "metadata": {},
   "outputs": [
    {
     "name": "stdout",
     "output_type": "stream",
     "text": [
      "Indirimli fiyati: 2121.24\n"
     ]
    }
   ],
   "source": [
    "original_price = float(input(\"Urunun orijinal fiyatini giriniz:\"))\n",
    "discount_percentage = float(input(\"Indirim yuzdesini giriniz:\"))\n",
    "\n",
    "discount_amonut = original_price * (discount_percentage / 100)\n",
    "discounted_price = original_price - discount_amonut\n",
    "\n",
    "print(\"Indirimli fiyati:\", round(discounted_price,2))"
   ]
  },
  {
   "cell_type": "markdown",
   "metadata": {},
   "source": [
    "11. Mesafe Dönüştürücü:\n",
    "\n",
    "Kullanıcıdan kilometre veya mil cinsinden bir mesafe alarak farklı birimlere çevirin."
   ]
  },
  {
   "cell_type": "code",
   "execution_count": 18,
   "metadata": {},
   "outputs": [
    {
     "name": "stdout",
     "output_type": "stream",
     "text": [
      "67.0 kilometre = 41.54 mil dir\n"
     ]
    }
   ],
   "source": [
    "kilometers = float(input(\"Kilometre cinsinden mesafeyi giriniz:\"))\n",
    "miles = kilometers * 0.62\n",
    "\n",
    "print(kilometers, \"kilometre =\", round(miles, 2), \"mil dir\")"
   ]
  },
  {
   "cell_type": "markdown",
   "metadata": {},
   "source": [
    "12. Kullanıcıdan bir saniye değeri girmesini isteyin. girilen saniyeyi saat dakika ve sn cinsinden yazdırın. <br><br>\n",
    "örn: 19520 sn >> 5 saat, 25 dk, 20 saniye ~"
   ]
  },
  {
   "cell_type": "code",
   "execution_count": 22,
   "metadata": {},
   "outputs": [
    {
     "name": "stdout",
     "output_type": "stream",
     "text": [
      "5 saat, 25 dakika, 20 saniye\n"
     ]
    }
   ],
   "source": [
    "# Kullanıcıdan saniye değerini al\n",
    "saniye = int(input(\"Lütfen bir saniye değeri girin: \"))\n",
    "\n",
    "# Saat, dakika ve saniye hesapla\n",
    "saat = saniye // 3600\n",
    "kalan_saniye = saniye % 3600\n",
    "dakika = kalan_saniye // 60\n",
    "saniye = kalan_saniye % 60\n",
    "\n",
    "print(f\"{saat} saat, {dakika} dakika, {saniye} saniye\")\n"
   ]
  },
  {
   "cell_type": "markdown",
   "metadata": {},
   "source": [
    "13. Sıcaklık Dönüştürücü:\n",
    "\n",
    "Kullanıcıdan Celsius veya Fahrenheit cinsinden bir sıcaklık alarak diğer birime çevirin."
   ]
  },
  {
   "cell_type": "code",
   "execution_count": 24,
   "metadata": {},
   "outputs": [
    {
     "name": "stdout",
     "output_type": "stream",
     "text": [
      "109.4 eder\n"
     ]
    }
   ],
   "source": [
    "celsius = float(input(\"Celcius derecesini giriniz:\"))\n",
    "fahrenheit = (celsius * (9/5)) + 32\n",
    "\n",
    "print(fahrenheit ,\"eder\")"
   ]
  },
  {
   "cell_type": "markdown",
   "metadata": {},
   "source": [
    "14. Kullanıcıdan mevcut maaşı ve zam yüzdesini alarak yeni maaşı hesaplayın."
   ]
  },
  {
   "cell_type": "code",
   "execution_count": 27,
   "metadata": {},
   "outputs": [
    {
     "name": "stdout",
     "output_type": "stream",
     "text": [
      "Yeni maasiniz: 12000.0\n"
     ]
    }
   ],
   "source": [
    "maas = float(input(\"Maasini giriniz:\"))\n",
    "zam_yuzdesi = float(input(\"Zam yuzdesini giriniz:\"))\n",
    "yeni_maas = maas + (maas * zam_yuzdesi)/100\n",
    "\n",
    "print(\"Yeni maasiniz:\", yeni_maas)"
   ]
  },
  {
   "cell_type": "markdown",
   "metadata": {},
   "source": [
    "15. İlk 100 pozitif tam sayının toplamını hesaplayın."
   ]
  },
  {
   "cell_type": "code",
   "execution_count": 28,
   "metadata": {},
   "outputs": [
    {
     "name": "stdout",
     "output_type": "stream",
     "text": [
      "5050\n"
     ]
    }
   ],
   "source": [
    "# n*(n+1) / 2\n",
    "n = 100\n",
    "\n",
    "toplam = n*(n+1) // 2\n",
    "print(toplam)"
   ]
  },
  {
   "cell_type": "markdown",
   "metadata": {},
   "source": [
    "16. Faiz hesaplama\n",
    "\n",
    "Kullanicidan ana para, faiz orani ve sure bilgilerini alarak basit faizi hesapla\n",
    "\n",
    "anapara * faiz orani * sure(yil)  /  100"
   ]
  },
  {
   "cell_type": "code",
   "execution_count": 32,
   "metadata": {},
   "outputs": [
    {
     "name": "stdout",
     "output_type": "stream",
     "text": [
      "Basit faiz 600.0 ₺\n"
     ]
    }
   ],
   "source": [
    "principal = float(input(\"Ana parayı giriniz: \"))\n",
    "rate_of_interest = float(input(\"Faiz oranını giriniz: \"))\n",
    "time = int(input(\"Süreyi yıl olarak giriniz: \"))\n",
    "simple_interest = (principal * rate_of_interest * time) / 100\n",
    "\n",
    "print(\"Basit faiz\", round(simple_interest, 2), \"₺\")"
   ]
  },
  {
   "cell_type": "markdown",
   "metadata": {},
   "source": [
    "17. Öğrencilerine 12 haneli öğrenci numarası veren üniversitenin verdiği numaranın ilk 4 hanesi giriş yılı 5. ve 6. hanesi okuduğu fakültenin numarası 7. ve 8. hane bölüm numarası 9 ve 10. hanesi öğrenim numarası 11. ve 12. hane ise öğrencinin üniversiteye giriş sırasıdır. 12 haneli öğrenci kodunu kullanıcıdan alarak anlamlı şekilde ayıran ve ekrana yazan kodu yazınız.\n",
    "    Örnek Çıktı:\n",
    "*   Öğrenci No: 201514110321\n",
    "*   NUMARANIN ACILIMI:\n",
    "*   GirisYili: 2015\n",
    "*   FakulteNo: 14\n",
    "*   BolumNo: 11\n",
    "*   OgrenimNo: 03\n",
    "*   OgrenciNo: 21"
   ]
  },
  {
   "cell_type": "code",
   "execution_count": 34,
   "metadata": {},
   "outputs": [
    {
     "data": {
      "text/plain": [
       "''"
      ]
     },
     "execution_count": 34,
     "metadata": {},
     "output_type": "execute_result"
    }
   ],
   "source": [
    "giris_yili = input(\"Üniversiteye giriş yılınızı giriniz: 'Ör: 2024'\")\n",
    "fakulte = input(\"Fakülte kodunuzu giriniz: 'Eğitim-01, Fen-Edebiyat-02, Mühendislik-03, Tıp-04'\")\n",
    "bolum = input(\"Bölüm kodunuzu giriniz: 'Bilgisayar Mühendisliği-01 gibi'\")\n",
    "ogrenimNo = input(\"Öğrenim kodunu giriniz: 'Ör: 05'\")\n",
    "siralama = input(\"Üniversiteye giriş sıra numaranızı yazınız: 'Ör: 99'\")\n",
    "\n",
    "ogrenciNo = giris_yili + fakulte + bolum + ogrenimNo+ siralama\n",
    "\n",
    "print(\"Öğrenci numaranız:\", ogrenciNo)"
   ]
  },
  {
   "cell_type": "code",
   "execution_count": null,
   "metadata": {},
   "outputs": [],
   "source": []
  }
 ],
 "metadata": {
  "kernelspec": {
   "display_name": "Python 3",
   "language": "python",
   "name": "python3"
  },
  "language_info": {
   "codemirror_mode": {
    "name": "ipython",
    "version": 3
   },
   "file_extension": ".py",
   "mimetype": "text/x-python",
   "name": "python",
   "nbconvert_exporter": "python",
   "pygments_lexer": "ipython3",
   "version": "3.12.3"
  }
 },
 "nbformat": 4,
 "nbformat_minor": 2
}
